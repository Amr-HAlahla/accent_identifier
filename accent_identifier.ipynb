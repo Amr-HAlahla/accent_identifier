{
 "cells": [
  {
   "cell_type": "markdown",
   "id": "74658753-a4b4-40f8-9c4b-1f825836eb8c",
   "metadata": {},
   "source": [
    "### include the necessary libraries if they are not included"
   ]
  },
  {
   "cell_type": "code",
   "execution_count": 65,
   "id": "34775055-43a1-47af-bf97-5b06dbdbbae1",
   "metadata": {},
   "outputs": [],
   "source": [
    "import os\n",
    "import glob\n",
    "import librosa\n",
    "import numpy as np\n",
    "from sklearn.preprocessing import StandardScaler\n",
    "from sklearn.svm import SVC\n",
    "from sklearn.model_selection import GridSearchCV\n",
    "from sklearn.cluster import KMeans\n",
    "from sklearn.metrics import silhouette_score, classification_report, confusion_matrix, accuracy_score, ConfusionMatrixDisplay\n",
    "from sklearn.neighbors import KNeighborsClassifier\n",
    "import seaborn as sns\n",
    "import matplotlib.pyplot as plt\n",
    "from time import time\n",
    "from pydub import AudioSegment"
   ]
  },
  {
   "cell_type": "markdown",
   "id": "3815546b-17d7-4e9f-96b3-c1961477fa05",
   "metadata": {},
   "source": [
    "### function to load audio files"
   ]
  },
  {
   "cell_type": "code",
   "execution_count": 106,
   "id": "31790071-058a-4c2c-a3d8-fc2fa0b5a654",
   "metadata": {},
   "outputs": [],
   "source": [
    "\n",
    "def load_audio_files(base_path):\n",
    "    features = []\n",
    "    labels = []\n",
    "    accents = ['Hebron', 'Jerusalem', 'Nablus','Ramallah_Reef']\n",
    "\n",
    "    for accent in accents:\n",
    "        folder_path = os.path.join(base_path, accent)\n",
    "        for file_path in glob.glob(os.path.join(folder_path, '*.wav')):\n",
    "            y, sr = librosa.load(file_path, sr=None)\n",
    "            mfccs = librosa.feature.mfcc(y=y, sr=sr, n_mfcc=20)#we take 20 mfccs\n",
    "            mfccs_mean = np.mean(mfccs, axis=1)\n",
    "#           mfccs_delta = librosa.feature.delta(mfccs)\n",
    "#           mfccs_delta2 = librosa.feature.delta(mfccs, order=2)\n",
    "            features += [mfccs_mean]\n",
    "            labels.append(accent)\n",
    "\n",
    "    return np.array(features), np.array(labels)"
   ]
  },
  {
   "cell_type": "code",
   "execution_count": 98,
   "id": "5d356de9-552e-4468-aa3a-a3ab9d8fc638",
   "metadata": {},
   "outputs": [],
   "source": [
    "best_svm = None\n",
    "best_Kmeans = None"
   ]
  },
  {
   "cell_type": "code",
   "execution_count": 124,
   "id": "b0b0ee87-4bc0-4995-a8c6-4fb13ac5186d",
   "metadata": {},
   "outputs": [],
   "source": [
    "train_base_path = 'training'\n",
    "test_base_path = 'testing'\n",
    "data_saved = False\n",
    "features_train, labels_train, features_test, labels_test = None, None, None, None"
   ]
  },
  {
   "cell_type": "code",
   "execution_count": 125,
   "id": "53c507a7-4f9e-4839-b1e0-4eb595a140be",
   "metadata": {},
   "outputs": [],
   "source": [
    "def read_save_data():\n",
    "    global data_saved\n",
    "    if not data_saved:\n",
    "        features_train, labels_train = load_audio_files(train_base_path)#training features and labels\n",
    "        features_test, labels_test = load_audio_files(test_base_path)# testing features and labels\n",
    "        np.save('features_train.npy', features_train)\n",
    "        np.save('labels_train.npy', labels_train)\n",
    "        np.save('features_test.npy', features_test)\n",
    "        np.save('labels_test.npy', labels_test)\n",
    "        data_saved = True"
   ]
  },
  {
   "cell_type": "code",
   "execution_count": 126,
   "id": "7e30d6be-6d34-423e-ae14-535d0af65942",
   "metadata": {},
   "outputs": [
    {
     "name": "stdout",
     "output_type": "stream",
     "text": [
      "I am here\n",
      "data loaded successfully\n",
      "time taken = 32.271984815597534\n"
     ]
    }
   ],
   "source": [
    "t0 = time()\n",
    "if not data_saved:\n",
    "    read_save_data()\n",
    "    print('I am here')\n",
    "\n",
    "features_train = np.load('features_train.npy')\n",
    "labels_train = np.load('labels_train.npy')\n",
    "features_test = np.load('features_test.npy')\n",
    "labels_test = np.load('labels_test.npy')\n",
    "print('data loaded successfully')\n",
    "t1 = time()\n",
    "\n",
    "deltaT = (t1 - t0)\n",
    "print(f'time taken = {deltaT}')"
   ]
  },
  {
   "cell_type": "markdown",
   "id": "dce3e832-6279-4609-98bb-5685b0873001",
   "metadata": {},
   "source": [
    "### this function is used to scale the features for both train and test data using StandardScaler"
   ]
  },
  {
   "cell_type": "code",
   "execution_count": 127,
   "id": "50b8102b-317a-46ff-9e7f-965574715b17",
   "metadata": {},
   "outputs": [],
   "source": [
    "def scale_values():\n",
    "    global features_train\n",
    "    global features_test\n",
    "    scaler = StandardScaler()\n",
    "    features_train = scaler.fit_transform(features_train)\n",
    "    features_test = scaler.transform(features_test)"
   ]
  },
  {
   "cell_type": "markdown",
   "id": "645f11ea-7a9e-4d75-a901-dd58d1465611",
   "metadata": {},
   "source": [
    "### this method is used to train the SVM models and choose the best model using grid search"
   ]
  },
  {
   "cell_type": "code",
   "execution_count": 128,
   "id": "77c1ad07-392b-4912-b407-0cb39d13ed60",
   "metadata": {},
   "outputs": [],
   "source": [
    "def choose_best_SVM():\n",
    "    global features_train\n",
    "    global labels_train\n",
    "    global best_svm\n",
    "    # Use Grid Search to find the best parameters for SVM\n",
    "    parameter_grid = {'C': [0.1, 1, 10], 'kernel': ['linear', 'rbf'], 'class_weight': ['balanced']}\n",
    "    grid_search = GridSearchCV(SVC(), parameter_grid, cv=5)\n",
    "    grid_search.fit(features_train, labels_train)\n",
    "    # Get the best model from Grid Search\n",
    "    best_svm = grid_search.best_estimator_"
   ]
  },
  {
   "cell_type": "markdown",
   "id": "3bc023d7-6efb-4900-b8b9-e2cd53f56b8b",
   "metadata": {},
   "source": [
    "### This method performs K-Means clustering on the training data"
   ]
  },
  {
   "cell_type": "code",
   "execution_count": 129,
   "id": "078a352c-afcb-4214-8975-e6027e7b1949",
   "metadata": {},
   "outputs": [],
   "source": [
    "def evaluate_SVM():\n",
    "    global best_svm\n",
    "    \"\"\"This method evaluates the best SVM , print the accuracy, confusion matrix and classification report\"\"\"\n",
    "    y_pred = best_svm.predict(features_test)\n",
    "    accuracy = accuracy_score(labels_test, y_pred)\n",
    "    print(f'Accuracy: {accuracy * 100:.2f}%')\n",
    "    # Print confusion matrix and classification report\n",
    "    cm = confusion_matrix(labels_test, y_pred, labels=best_svm.classes_)\n",
    "    sns.heatmap(cm, annot=True, fmt='d', xticklabels=best_svm.classes_, yticklabels=best_svm.classes_,cmap='binary', linewidths=1)\n",
    "    plt.xlabel('Predicted')\n",
    "    plt.ylabel('True')\n",
    "    plt.title('Confusion Matrix')\n",
    "    plt.show()\n",
    "    print(classification_report(labels_test, y_pred, target_names=best_svm.classes_))"
   ]
  },
  {
   "cell_type": "code",
   "execution_count": 130,
   "id": "c461f1c9-0650-4105-90fe-0854d027fc87",
   "metadata": {},
   "outputs": [
    {
     "name": "stdout",
     "output_type": "stream",
     "text": [
      "scaling values..\n",
      "scaling values done.\n"
     ]
    }
   ],
   "source": [
    "print('scaling values..')\n",
    "scale_values()\n",
    "print('scaling values done.')"
   ]
  },
  {
   "cell_type": "code",
   "execution_count": 131,
   "id": "8fe4c58b-caf1-47d0-9c59-1769d5f66588",
   "metadata": {},
   "outputs": [
    {
     "name": "stdout",
     "output_type": "stream",
     "text": [
      "choosing best SVM model..\n",
      "choosing best SVM model done.\n"
     ]
    }
   ],
   "source": [
    "print('choosing best SVM model..')\n",
    "choose_best_SVM()\n",
    "print('choosing best SVM model done.')"
   ]
  },
  {
   "cell_type": "code",
   "execution_count": 122,
   "id": "692ec68f-7a6a-4c9b-8ea4-9ced831ed0d4",
   "metadata": {},
   "outputs": [
    {
     "name": "stdout",
     "output_type": "stream",
     "text": [
      "evaluating SVM model..\n",
      "Accuracy: 75.00%\n"
     ]
    },
    {
     "data": {
      "image/png": "[encoded data removed]",
      "text/plain": [
       "<Figure size 640x480 with 2 Axes>"
      ]
     },
     "metadata": {},
     "output_type": "display_data"
    },
    {
     "name": "stdout",
     "output_type": "stream",
     "text": [
      "               precision    recall  f1-score   support\n",
      "\n",
      "       Hebron       1.00      0.80      0.89         5\n",
      "    Jerusalem       0.62      1.00      0.77         5\n",
      "       Nablus       1.00      0.40      0.57         5\n",
      "Ramallah_Reef       0.67      0.80      0.73         5\n",
      "\n",
      "     accuracy                           0.75        20\n",
      "    macro avg       0.82      0.75      0.74        20\n",
      " weighted avg       0.82      0.75      0.74        20\n",
      "\n",
      "evaluating SVM model done.\n"
     ]
    }
   ],
   "source": [
    "print('evaluating SVM model..')\n",
    "evaluate_SVM()\n",
    "print('evaluating SVM model done.')"
   ]
  },
  {
   "cell_type": "code",
   "execution_count": null,
   "id": "44ace249-a3d6-4e2d-bba9-c2570faca58b",
   "metadata": {},
   "outputs": [],
   "source": []
  }
 ],
 "metadata": {
  "kernelspec": {
   "display_name": "Python 3 (ipykernel)",
   "language": "python",
   "name": "python3"
  },
  "language_info": {
   "codemirror_mode": {
    "name": "ipython",
    "version": 3
   },
   "file_extension": ".py",
   "mimetype": "text/x-python",
   "name": "python",
   "nbconvert_exporter": "python",
   "pygments_lexer": "ipython3",
   "version": "3.11.9"
  }
 },
 "nbformat": 4,
 "nbformat_minor": 5
}
